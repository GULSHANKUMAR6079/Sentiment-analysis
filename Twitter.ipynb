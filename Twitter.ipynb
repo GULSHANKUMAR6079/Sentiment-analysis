{
  "nbformat": 4,
  "nbformat_minor": 0,
  "metadata": {
    "colab": {
      "provenance": [],
      "authorship_tag": "ABX9TyOB9ZmlT7R8CG7mgVUs/4bN",
      "include_colab_link": true
    },
    "kernelspec": {
      "name": "python3",
      "display_name": "Python 3"
    },
    "language_info": {
      "name": "python"
    }
  },
  "cells": [
    {
      "cell_type": "markdown",
      "metadata": {
        "id": "view-in-github",
        "colab_type": "text"
      },
      "source": [
        "<a href=\"https://colab.research.google.com/github/GULSHANKUMAR6079/Sentiment-analysis/blob/main/Twitter.ipynb\" target=\"_parent\"><img src=\"https://colab.research.google.com/assets/colab-badge.svg\" alt=\"Open In Colab\"/></a>"
      ]
    },
    {
      "cell_type": "code",
      "source": [
        "import numpy as np\n",
        "import pandas as pd\n",
        "import matplotlib.pyplot as plt\n",
        "from sklearn.model_selection import train_test_split\n",
        "from sklearn.feature_extraction.text import TfidfVectorizer\n",
        "from sklearn.preprocessing import LabelEncoder\n",
        "from sklearn.metrics import classification_report, confusion_matrix, accuracy_score\n",
        "from sklearn.pipeline import Pipeline\n",
        "from sklearn.svm import LinearSVC\n",
        "import seaborn as sns\n",
        "import joblib\n",
        "import nltk\n",
        "from nltk.sentiment.vader import SentimentIntensityAnalyzer\n",
        "\n",
        "nltk.download('vader_lexicon')  # Download VADER lexicon if not already downloaded\n",
        "\n",
        "class SentimentAnalysisModel:\n",
        "    def __init__(self, model_filename='sentiment_model.joblib'):\n",
        "        self.model_filename = model_filename\n",
        "        self.pipeline = Pipeline([\n",
        "            ('tfidf', TfidfVectorizer()),\n",
        "            ('clf', LinearSVC())\n",
        "        ])\n",
        "        try:\n",
        "            self.load_model()\n",
        "            print(\"Model loaded successfully!\")\n",
        "        except FileNotFoundError:\n",
        "            print(\"Model file not found. Training a new model...\")\n",
        "\n",
        "    def train_model(self, X_train, y_train):\n",
        "        \"\"\"Trains the sentiment analysis model.\"\"\"\n",
        "        X_train = X_train.fillna('')\n",
        "        self.pipeline.fit(X_train, y_train)\n",
        "        self.save_model()\n",
        "\n",
        "    def evaluate_model(self, X_test, y_test):\n",
        "        \"\"\"Evaluates the model and returns metrics.\"\"\"\n",
        "        X_test = X_test.fillna('')\n",
        "        y_pred = self.pipeline.predict(X_test)\n",
        "        metrics = {\n",
        "            'classification_report': classification_report(y_test, y_pred),\n",
        "            'confusion_matrix': confusion_matrix(y_test, y_pred),\n",
        "            'accuracy_score': accuracy_score(y_test, y_pred)\n",
        "        }\n",
        "        return metrics\n",
        "\n",
        "    def visualize_confusion_matrix(self, confusion_matrix):\n",
        "        \"\"\"Visualizes the confusion matrix.\"\"\"\n",
        "        plt.figure(figsize=(8, 6))\n",
        "        sns.heatmap(confusion_matrix, annot=True, fmt='d', cmap='Blues')\n",
        "        plt.title('Confusion Matrix')\n",
        "        plt.xlabel('Predicted Label')\n",
        "        plt.ylabel('True Label')\n",
        "        plt.show()\n",
        "\n",
        "    def save_model(self):\n",
        "        \"\"\"Saves the trained model to a file.\"\"\"\n",
        "        joblib.dump(self.pipeline, self.model_filename)\n",
        "\n",
        "    def load_model(self):\n",
        "        \"\"\"Loads the trained model from a file.\"\"\"\n",
        "        self.pipeline = joblib.load(self.model_filename)\n",
        "\n",
        "    def predict_sentiment(self, text):\n",
        "        \"\"\"Predicts the sentiment of the given text.\"\"\"\n",
        "        # 1. Use VADER for initial sentiment analysis\n",
        "        analyzer = SentimentIntensityAnalyzer()\n",
        "        vader_scores = analyzer.polarity_scores(text)\n",
        "\n",
        "        # 2. If VADER detects strong negative sentiment, override model prediction\n",
        "        if vader_scores['neg'] > 0.5:  # Adjust threshold as needed\n",
        "            return -1.0  # Return negative sentiment (-1.0)\n",
        "\n",
        "        # 3. Otherwise, use the model's prediction\n",
        "        text = pd.Series([text]).fillna(\"\")\n",
        "        prediction = self.pipeline.predict(text)[0]\n",
        "        return prediction\n",
        "\n",
        "def prepare_dataset(df, text_column, label_column):\n",
        "    \"\"\"Prepares the dataset for training.\"\"\"\n",
        "    X_train, X_test, y_train, y_test = train_test_split(\n",
        "        df[text_column], df[label_column], test_size=0.2, random_state=42\n",
        "    )\n",
        "    train_not_na = y_train.notna()\n",
        "    X_train = X_train[train_not_na]\n",
        "    y_train = y_train[train_not_na]\n",
        "    test_not_na = y_test.notna()\n",
        "    X_test = X_test[test_not_na]\n",
        "    y_test = y_test[test_not_na]\n",
        "    return X_train, X_test, y_train, y_test\n",
        "\n",
        "def main():\n",
        "    \"\"\"Main function to load data, train, and evaluate the model.\"\"\"\n",
        "    df = pd.read_csv('/content/Twitter_Data.csv')\n",
        "    text_column = 'text' if 'text' in df.columns else 'clean_text'\n",
        "    label_column = 'sentiment' if 'sentiment' in df.columns else 'category'\n",
        "\n",
        "    sentiment_model = SentimentAnalysisModel()\n",
        "\n",
        "    # Train only if the model wasn't loaded from a file\n",
        "    if sentiment_model.pipeline.named_steps['clf'].coef_.size == 0:\n",
        "        X_train, X_test, y_train, y_test = prepare_dataset(df, text_column, label_column)\n",
        "        sentiment_model.train_model(X_train, y_train)\n",
        "        metrics = sentiment_model.evaluate_model(X_test, y_test)\n",
        "        print(metrics['classification_report'])\n",
        "        sentiment_model.visualize_confusion_matrix(metrics['confusion_matrix'])\n",
        "\n",
        "    # Get user input and predict sentiment\n",
        "    while True:\n",
        "        user_input = input(\"Enter text for sentiment analysis (or 'quit' to exit): \")\n",
        "        if user_input.lower() == 'quit':\n",
        "            break\n",
        "        prediction = sentiment_model.predict_sentiment(user_input)\n",
        "        print(\"Sentiment:\", prediction)\n",
        "\n",
        "if __name__ == '__main__':\n",
        "    main()\n",
        "\n",
        "print(\"Sentiment Analysis Model is ready!\")"
      ],
      "metadata": {
        "colab": {
          "base_uri": "https://localhost:8080/"
        },
        "id": "O73pjmvGuaBd",
        "outputId": "b10b571d-828f-4b31-b4a7-55e03318c89e"
      },
      "execution_count": 10,
      "outputs": [
        {
          "output_type": "stream",
          "name": "stderr",
          "text": [
            "[nltk_data] Downloading package vader_lexicon to /root/nltk_data...\n"
          ]
        },
        {
          "output_type": "stream",
          "name": "stdout",
          "text": [
            "Model loaded successfully!\n",
            "Enter text for sentiment analysis (or 'quit' to exit): foolish\n",
            "Sentiment: -1.0\n",
            "Enter text for sentiment analysis (or 'quit' to exit): regret \n",
            "Sentiment: -1.0\n",
            "Enter text for sentiment analysis (or 'quit' to exit): awful\n",
            "Sentiment: -1.0\n",
            "Enter text for sentiment analysis (or 'quit' to exit): harassment\n",
            "Sentiment: -1.0\n",
            "Enter text for sentiment analysis (or 'quit' to exit): happy\n",
            "Sentiment: 1.0\n",
            "Enter text for sentiment analysis (or 'quit' to exit): someone is seeing me\n",
            "Sentiment: 0.0\n",
            "Enter text for sentiment analysis (or 'quit' to exit): someone is gazing me\n",
            "Sentiment: 0.0\n",
            "Enter text for sentiment analysis (or 'quit' to exit): cheatoing\n",
            "Sentiment: 0.0\n",
            "Enter text for sentiment analysis (or 'quit' to exit): cheating\n",
            "Sentiment: -1.0\n",
            "Enter text for sentiment analysis (or 'quit' to exit): quit\n",
            "Sentiment Analysis Model is ready!\n"
          ]
        }
      ]
    },
    {
      "cell_type": "code",
      "source": [],
      "metadata": {
        "id": "Rgw65B2F0RJ3"
      },
      "execution_count": null,
      "outputs": []
    }
  ]
}